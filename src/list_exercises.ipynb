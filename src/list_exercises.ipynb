{
 "cells": [
  {
   "cell_type": "markdown",
   "metadata": {},
   "source": [
    "### List Excercises  \n",
    "**Ex 1**"
   ]
  },
  {
   "cell_type": "code",
   "execution_count": 1,
   "metadata": {},
   "outputs": [],
   "source": [
    "L = [1,2]\n",
    "L3 = 3*L"
   ]
  },
  {
   "cell_type": "markdown",
   "metadata": {},
   "source": [
    "1. What is the content of `L3`?"
   ]
  },
  {
   "cell_type": "code",
   "execution_count": 2,
   "metadata": {},
   "outputs": [
    {
     "data": {
      "text/plain": [
       "[1, 2, 1, 2, 1, 2]"
      ]
     },
     "execution_count": 2,
     "metadata": {},
     "output_type": "execute_result"
    }
   ],
   "source": [
    "L3"
   ]
  },
  {
   "cell_type": "markdown",
   "metadata": {},
   "source": [
    "2. Try to predict outcome of the following commands:"
   ]
  },
  {
   "cell_type": "code",
   "execution_count": 8,
   "metadata": {},
   "outputs": [
    {
     "name": "stdout",
     "output_type": "stream",
     "text": [
      "1\n",
      "2\n",
      "IndexError Exception! Index value must be within the bound of the list length\n"
     ]
    }
   ],
   "source": [
    "print(L[0])\n",
    "print(L[-1])\n",
    "\n",
    "try:\n",
    "    print(L[10])\n",
    "except IndexError:\n",
    "    print(\"IndexError Exception! Index value must be within the bound of the list length\")"
   ]
  },
  {
   "cell_type": "markdown",
   "metadata": {},
   "source": [
    "2. What does the this code do?"
   ]
  },
  {
   "cell_type": "code",
   "execution_count": 9,
   "metadata": {},
   "outputs": [
    {
     "data": {
      "text/plain": [
       "[1, 4, 1, 4, 1, 4]"
      ]
     },
     "execution_count": 9,
     "metadata": {},
     "output_type": "execute_result"
    }
   ],
   "source": [
    "L4 = [k**2 for k in L3]\n",
    "L4"
   ]
  },
  {
   "cell_type": "markdown",
   "metadata": {},
   "source": [
    "4. Concatenate `L3` and `L4` to a new list `L5`."
   ]
  },
  {
   "cell_type": "code",
   "execution_count": 10,
   "metadata": {},
   "outputs": [
    {
     "data": {
      "text/plain": [
       "[1, 2, 1, 2, 1, 2, 1, 4, 1, 4, 1, 4]"
      ]
     },
     "execution_count": 10,
     "metadata": {},
     "output_type": "execute_result"
    }
   ],
   "source": [
    "L5 = L3 + L4\n",
    "L5"
   ]
  },
  {
   "cell_type": "markdown",
   "metadata": {},
   "source": [
    "**Ex 2**  \n",
    "Use `range` command and a list comprehension to generate a list with 100 equidistantly spaced values between `0` and `1`."
   ]
  },
  {
   "cell_type": "code",
   "execution_count": 23,
   "metadata": {},
   "outputs": [
    {
     "name": "stdout",
     "output_type": "stream",
     "text": [
      "[0.0, 0.01, 0.02, 0.03, 0.04]\n",
      "[0.95, 0.96, 0.97, 0.98, 0.99]\n"
     ]
    }
   ],
   "source": [
    "L6 = [k/100 for k in range(100)]\n",
    "\n",
    "print(L6[:5])\n",
    "print(L6[-5:])"
   ]
  },
  {
   "cell_type": "markdown",
   "metadata": {},
   "source": [
    "**Ex 3**  \n",
    "Assume the following signal is stores in a list:"
   ]
  },
  {
   "cell_type": "code",
   "execution_count": 40,
   "metadata": {},
   "outputs": [
    {
     "data": {
      "text/plain": [
       "[0, 1, 2, 1, 0, -1, -2, -1, 0]"
      ]
     },
     "execution_count": 40,
     "metadata": {},
     "output_type": "execute_result"
    }
   ],
   "source": [
    "L = [0,1,2,1,0,-1,-2,-1,0]\n",
    "L"
   ]
  },
  {
   "cell_type": "markdown",
   "metadata": {},
   "source": [
    "What is the outcome of the following:  \n",
    "(Do this by inspection first, then using Python to check)"
   ]
  },
  {
   "cell_type": "code",
   "execution_count": 39,
   "metadata": {},
   "outputs": [
    {
     "name": "stdout",
     "output_type": "stream",
     "text": [
      "0\n",
      "0\n",
      "[0, 1, 2, 1, 0, -1, -2, -1]\n",
      "[0, 1, -5, -1, -2, -1, 0]\n"
     ]
    }
   ],
   "source": [
    "print(L[0])\n",
    "print(L[-1])\n",
    "print(L[:-1])\n",
    "L + L[1:-1] + L\n",
    "L[2:2] = [-3]\n",
    "L[3:4] = []\n",
    "L[2:5] = [-5]\n",
    "print(L)"
   ]
  },
  {
   "cell_type": "markdown",
   "metadata": {},
   "source": [
    "**Ex 4**  \n",
    "Condiser the following Python code and assume the variable `m`has been previously assigned a integer value. What is the value of `ans`?. Do this by inspection first before executing it in Python."
   ]
  },
  {
   "cell_type": "code",
   "execution_count": 42,
   "metadata": {},
   "outputs": [
    {
     "data": {
      "text/plain": [
       "[-5.0, -4.0, -3.0, -2.0, -1.0, 0.0, 1.0, 2.0, 3.0, 4.0]"
      ]
     },
     "execution_count": 42,
     "metadata": {},
     "output_type": "execute_result"
    }
   ],
   "source": [
    "m = 10\n",
    "\n",
    "L = [n-m/2 for n in range(m)]\n",
    "L"
   ]
  },
  {
   "cell_type": "markdown",
   "metadata": {},
   "source": [
    "**Ex 5**  \n",
    "Considerthe recursion formula:  \n",
    "  \n",
    "$$u_{n+3}= u_{n+2}+ha\\left({23 \\over 12}u_{n+2}-{4 \\over 3}u_{n+1}+{5 \\over 12}u_{n}\\right) $$  \n",
    "  \n",
    "with `n = 0, ... , 1000`, `h = 1/1000` and `a = -0.5`.  \n",
    "  \n",
    "**1.** Create a list `u`. Store in its first three elements `e^0`, `e^ha`, and `e^2ha`. These represent the starting values of `u0, u1` and `u2` in the given formula. Build up the complte list from the recursion formula.  "
   ]
  },
  {
   "cell_type": "code",
   "execution_count": 171,
   "metadata": {},
   "outputs": [
    {
     "name": "stdout",
     "output_type": "stream",
     "text": [
      "-0.0005\n",
      "-0.001\n",
      "2.718281828459045\n",
      "1.0\n",
      "0.9995001249791693\n",
      "0.999000499833375\n"
     ]
    }
   ],
   "source": [
    "from math import e\n",
    "\n",
    "print(h*a)\n",
    "print(2*h*a)\n",
    "print(e)\n",
    "print(e**0)\n",
    "print(e**(h*a))\n",
    "print(e**(2*h*a))"
   ]
  },
  {
   "cell_type": "code",
   "execution_count": 160,
   "metadata": {},
   "outputs": [
    {
     "name": "stdout",
     "output_type": "stream",
     "text": [
      "[0, 1, 2, 3, 4] ... [995, 996, 997, 998, 999]\n",
      "\n",
      "The list before recursion with initial 3 elements: \n",
      "[1.0, 0.9995001249791693, 0.999000499833375]\n"
     ]
    }
   ],
   "source": [
    "# set initial values\n",
    "n = list(range(1000))\n",
    "h = 1/1000\n",
    "a = -0.5\n",
    "\n",
    "# Create list of initial 3 values. This list is to be built up recursively to len 1000\n",
    "u = [e**0, e**(h*a), e**(2*h*a)]\n",
    "print(n[:5],\"...\",n[-5:])\n",
    "print(f\"\\nThe list before recursion with initial 3 elements: \\n{u}\")"
   ]
  },
  {
   "cell_type": "code",
   "execution_count": 161,
   "metadata": {},
   "outputs": [
    {
     "name": "stdout",
     "output_type": "stream",
     "text": [
      "Given element 1 value: 1.0\n",
      "Given element 2 value: 0.9995001249791693\n",
      "Given element 3 value: 0.999000499833375\n",
      "New potential element 4 value: 0.9985011244376875 \n",
      "\n",
      "We did not yet add the value to the result list: \n",
      "[1.0, 0.9995001249791693, 0.999000499833375]\n"
     ]
    }
   ],
   "source": [
    "# Check the formula logic by creating potential element 4 of the list manually\n",
    "\n",
    "i = 0\n",
    "\n",
    "print(f\"Given element 1 value: {u[n[0]]}\")\n",
    "print(f\"Given element 2 value: {u[n[1]]}\")\n",
    "print(f\"Given element 3 value: {u[n[2]]}\")\n",
    "\n",
    "data = u[n[i+2]] + h*a*( (23/12*u[n[i+2]]) -(4/3*u[n[i+1]]) +(5/12*u[n[i+0]]) )\n",
    "#u.append(data)\n",
    "\n",
    "print(f\"New potential element 4 value: {data} \\n\")\n",
    "print(f\"We did not yet add the value to the result list: \\n{u}\")"
   ]
  },
  {
   "cell_type": "markdown",
   "metadata": {},
   "source": [
    "The new value seems reasonable.  \n",
    "Next, define a function and test it."
   ]
  },
  {
   "cell_type": "code",
   "execution_count": 162,
   "metadata": {},
   "outputs": [],
   "source": [
    "def recursion_formula(u,n,h,a,x):\n",
    "    \"\"\"\n",
    "    Recursion formula for Ex. 5\n",
    "    Inputs:\n",
    "    n = list of range max 1000\n",
    "    h = parameter default value 1/1000\n",
    "    a = parameter default value -0.5\n",
    "    \n",
    "    u = list with 3 initial elements, to be recursively appended with a formula results until max range elements\n",
    "    \n",
    "    x = first element/index of a list to be recursively filled with formula results, default value 0\n",
    "    \"\"\"\n",
    "    # Given recursion formula\n",
    "    data = u[n[x+2]] + h*a*( (23/12*u[n[x+2]]) -(4/3*u[n[x+1]]) +(5/12*u[n[x+0]]) )\n",
    "    \n",
    "    return data"
   ]
  },
  {
   "cell_type": "code",
   "execution_count": 163,
   "metadata": {},
   "outputs": [
    {
     "data": {
      "text/plain": [
       "0.9985011244376875"
      ]
     },
     "execution_count": 163,
     "metadata": {},
     "output_type": "execute_result"
    }
   ],
   "source": [
    "# Test function on one element 0\n",
    "recursion_formula(u=u,n=n,h=h,a=a,x=0)"
   ]
  },
  {
   "cell_type": "markdown",
   "metadata": {},
   "source": [
    "The result is identical to above.    \n",
    "Now we populate the full list of `u` with remaining `997` out of total `1000` elements"
   ]
  },
  {
   "cell_type": "code",
   "execution_count": 168,
   "metadata": {},
   "outputs": [],
   "source": [
    "for i in n:\n",
    "    # list of u already contains 3 elements out of total n=1000\n",
    "    if i < len(n)-3:\n",
    "        data = recursion_formula(u=u, n=n, h=h, a=a, x=i)\n",
    "        u.append(data)\n",
    "    else:\n",
    "        break "
   ]
  },
  {
   "cell_type": "code",
   "execution_count": 170,
   "metadata": {},
   "outputs": [
    {
     "name": "stdout",
     "output_type": "stream",
     "text": [
      "1000\n",
      "[1.0, 0.9995001249791693, 0.999000499833375, 0.9985011244376875, 0.9980019986672862]\n",
      "[0.6080488833365618, 0.6077449348883236, 0.6074411383763223, 0.6071374937246088, 0.6068340008572719]\n"
     ]
    }
   ],
   "source": [
    "print(len(u))\n",
    "print(u[:5])\n",
    "print(u[-5:])"
   ]
  },
  {
   "cell_type": "code",
   "execution_count": 169,
   "metadata": {},
   "outputs": [
    {
     "name": "stdout",
     "output_type": "stream",
     "text": [
      "1000\n",
      "1000\n"
     ]
    }
   ],
   "source": [
    "print(len(n))\n",
    "print(len(u))"
   ]
  },
  {
   "cell_type": "code",
   "execution_count": 172,
   "metadata": {},
   "outputs": [
    {
     "data": {
      "text/plain": [
       "[<matplotlib.lines.Line2D at 0x196255d0eb0>]"
      ]
     },
     "execution_count": 172,
     "metadata": {},
     "output_type": "execute_result"
    },
    {
     "data": {
      "image/png": "[encoded data removed]",
      "text/plain": [
       "<Figure size 432x288 with 1 Axes>"
      ]
     },
     "metadata": {
      "needs_background": "light"
     },
     "output_type": "display_data"
    }
   ],
   "source": [
    "import matplotlib.pyplot as plt\n",
    "\n",
    "plt.plot(u)"
   ]
  },
  {
   "cell_type": "markdown",
   "metadata": {},
   "source": [
    "**2.** Construct a second list, `td`, in which you store the values `nh`, with `n = 0, ..., 1000`. Plot `td` versus `u`. Make a second plot in which you plot the difference, that is the `|e^atn - u_n|`, where `t_n`represents the values inside the vector `td`. Set axis labels and a title.  "
   ]
  },
  {
   "cell_type": "code",
   "execution_count": 183,
   "metadata": {},
   "outputs": [
    {
     "name": "stdout",
     "output_type": "stream",
     "text": [
      "[0, 1, 2, 3, 4]\n",
      "[0.    0.001 0.002 0.003 0.004]\n"
     ]
    }
   ],
   "source": [
    "import numpy as np\n",
    "\n",
    "# create second list as array, using vectorization\n",
    "td = np.array(n)*h\n",
    "\n",
    "print(n[:5])\n",
    "print(td[:5])"
   ]
  },
  {
   "cell_type": "markdown",
   "metadata": {},
   "source": [
    "Then we plot the two series."
   ]
  },
  {
   "cell_type": "code",
   "execution_count": 209,
   "metadata": {},
   "outputs": [
    {
     "data": {
      "image/png": "[encoded data removed]",
      "text/plain": [
       "<Figure size 2400x1200 with 1 Axes>"
      ]
     },
     "metadata": {
      "needs_background": "light"
     },
     "output_type": "display_data"
    }
   ],
   "source": [
    "# Set plot size\n",
    "plt.figure(figsize=(16,8), dpi=150)\n",
    "\n",
    "# add the two series to the plot\n",
    "plt.plot(td)\n",
    "plt.plot(u)\n",
    "plt.title('td vs u')\n",
    "plt.legend(['td','u'])\n",
    "plt.xlabel('index n from 0 to 1000')\n",
    "plt.ylabel('value between 0 and 1')\n",
    "plt.show()"
   ]
  },
  {
   "cell_type": "markdown",
   "metadata": {},
   "source": [
    "The recursion is a multistep formula to solve the differential equation `u´ = au` with the initial value `u(0) = u_0 = 1`. `u_n` approximates `u(nh) = e^anh*u_0`."
   ]
  },
  {
   "cell_type": "markdown",
   "metadata": {},
   "source": [
    "**Ex 6**  \n",
    "Let A and B be sets. The set (A / B) union (B / A) is called the sumetric difference of the two sets. Write a function that performs this operation. Compare the results to the result of the command:  \n",
    "`A.symmetric_difference(B)`"
   ]
  },
  {
   "cell_type": "code",
   "execution_count": 197,
   "metadata": {},
   "outputs": [
    {
     "name": "stdout",
     "output_type": "stream",
     "text": [
      "<class 'set'>\n",
      "<class 'set'>\n"
     ]
    }
   ],
   "source": [
    "A = set([1,2,3])\n",
    "B = set([3,4,5])\n",
    "print(type(A))\n",
    "print(type(B))"
   ]
  },
  {
   "cell_type": "code",
   "execution_count": 198,
   "metadata": {},
   "outputs": [
    {
     "data": {
      "text/plain": [
       "{1, 2, 4, 5}"
      ]
     },
     "execution_count": 198,
     "metadata": {},
     "output_type": "execute_result"
    }
   ],
   "source": [
    "A.symmetric_difference(B)"
   ]
  },
  {
   "cell_type": "markdown",
   "metadata": {},
   "source": [
    "**Ex 7**  \n",
    "Verify in Python that the empty set is a subset of any set."
   ]
  },
  {
   "cell_type": "code",
   "execution_count": 199,
   "metadata": {},
   "outputs": [
    {
     "name": "stdout",
     "output_type": "stream",
     "text": [
      "<class 'set'>\n"
     ]
    }
   ],
   "source": [
    "C = set([])\n",
    "D = set([12,13,15])\n",
    "E = set([4,5,6,7,8])\n",
    "print(type(C))"
   ]
  },
  {
   "cell_type": "code",
   "execution_count": 208,
   "metadata": {},
   "outputs": [
    {
     "data": {
      "text/plain": [
       "True"
      ]
     },
     "execution_count": 208,
     "metadata": {},
     "output_type": "execute_result"
    }
   ],
   "source": [
    "# comparing empty set with non-empty set\n",
    "C.issubset(D)"
   ]
  }
 ],
 "metadata": {
  "kernelspec": {
   "display_name": "Python 3",
   "language": "python",
   "name": "python3"
  },
  "language_info": {
   "codemirror_mode": {
    "name": "ipython",
    "version": 3
   },
   "file_extension": ".py",
   "mimetype": "text/x-python",
   "name": "python",
   "nbconvert_exporter": "python",
   "pygments_lexer": "ipython3",
   "version": "3.8.5"
  }
 },
 "nbformat": 4,
 "nbformat_minor": 4
}
